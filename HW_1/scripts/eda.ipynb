{
 "cells": [
  {
   "cell_type": "code",
   "id": "initial_id",
   "metadata": {
    "collapsed": true,
    "ExecuteTime": {
     "end_time": "2024-10-18T13:41:59.918737Z",
     "start_time": "2024-10-18T13:41:59.492233Z"
    }
   },
   "source": [
    "import pandas as pd\n",
    "import numpy as np\n",
    "\n",
    "df = pd.read_csv('../dataset/tables.csv')\n",
    "\n",
    "df.describe()"
   ],
   "outputs": [
    {
     "data": {
      "text/plain": [
       "           id                                            caption  \\\n",
       "count    1584                                               1584   \n",
       "unique    230                                               1578   \n",
       "top     S4.T1  ['<figcaption class=\"ltx_caption ltx_centering...   \n",
       "freq       95                                                  2   \n",
       "\n",
       "                                                    table  \\\n",
       "count                                                1584   \n",
       "unique                                               1581   \n",
       "top     <span class=\"ltx_tabular ltx_guessed_headers l...   \n",
       "freq                                                    3   \n",
       "\n",
       "                                                footnotes  \\\n",
       "count                                                  97   \n",
       "unique                                                 95   \n",
       "top     <p class=\"ltx_p ltx_figure_panel\" id=\"S4.SS2.S...   \n",
       "freq                                                    2   \n",
       "\n",
       "                                               references  \\\n",
       "count                                                1403   \n",
       "unique                                               1309   \n",
       "top     <p class=\"ltx_p\" id=\"A3.p1.1\">In this section,...   \n",
       "freq                                                    5   \n",
       "\n",
       "                               id_file  \n",
       "count                             1584  \n",
       "unique                             361  \n",
       "top     ./extraction/2410.09776v1.json  \n",
       "freq                                18  "
      ],
      "text/html": [
       "<div>\n",
       "<style scoped>\n",
       "    .dataframe tbody tr th:only-of-type {\n",
       "        vertical-align: middle;\n",
       "    }\n",
       "\n",
       "    .dataframe tbody tr th {\n",
       "        vertical-align: top;\n",
       "    }\n",
       "\n",
       "    .dataframe thead th {\n",
       "        text-align: right;\n",
       "    }\n",
       "</style>\n",
       "<table border=\"1\" class=\"dataframe\">\n",
       "  <thead>\n",
       "    <tr style=\"text-align: right;\">\n",
       "      <th></th>\n",
       "      <th>id</th>\n",
       "      <th>caption</th>\n",
       "      <th>table</th>\n",
       "      <th>footnotes</th>\n",
       "      <th>references</th>\n",
       "      <th>id_file</th>\n",
       "    </tr>\n",
       "  </thead>\n",
       "  <tbody>\n",
       "    <tr>\n",
       "      <th>count</th>\n",
       "      <td>1584</td>\n",
       "      <td>1584</td>\n",
       "      <td>1584</td>\n",
       "      <td>97</td>\n",
       "      <td>1403</td>\n",
       "      <td>1584</td>\n",
       "    </tr>\n",
       "    <tr>\n",
       "      <th>unique</th>\n",
       "      <td>230</td>\n",
       "      <td>1578</td>\n",
       "      <td>1581</td>\n",
       "      <td>95</td>\n",
       "      <td>1309</td>\n",
       "      <td>361</td>\n",
       "    </tr>\n",
       "    <tr>\n",
       "      <th>top</th>\n",
       "      <td>S4.T1</td>\n",
       "      <td>['&lt;figcaption class=\"ltx_caption ltx_centering...</td>\n",
       "      <td>&lt;span class=\"ltx_tabular ltx_guessed_headers l...</td>\n",
       "      <td>&lt;p class=\"ltx_p ltx_figure_panel\" id=\"S4.SS2.S...</td>\n",
       "      <td>&lt;p class=\"ltx_p\" id=\"A3.p1.1\"&gt;In this section,...</td>\n",
       "      <td>./extraction/2410.09776v1.json</td>\n",
       "    </tr>\n",
       "    <tr>\n",
       "      <th>freq</th>\n",
       "      <td>95</td>\n",
       "      <td>2</td>\n",
       "      <td>3</td>\n",
       "      <td>2</td>\n",
       "      <td>5</td>\n",
       "      <td>18</td>\n",
       "    </tr>\n",
       "  </tbody>\n",
       "</table>\n",
       "</div>"
      ]
     },
     "execution_count": 2,
     "metadata": {},
     "output_type": "execute_result"
    }
   ],
   "execution_count": 2
  }
 ],
 "metadata": {
  "kernelspec": {
   "display_name": "Python 3",
   "language": "python",
   "name": "python3"
  },
  "language_info": {
   "codemirror_mode": {
    "name": "ipython",
    "version": 2
   },
   "file_extension": ".py",
   "mimetype": "text/x-python",
   "name": "python",
   "nbconvert_exporter": "python",
   "pygments_lexer": "ipython2",
   "version": "2.7.6"
  }
 },
 "nbformat": 4,
 "nbformat_minor": 5
}
