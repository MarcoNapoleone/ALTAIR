{
 "cells": [
  {
   "metadata": {
    "collapsed": true,
    "ExecuteTime": {
     "end_time": "2024-10-21T07:52:37.119339Z",
     "start_time": "2024-10-21T07:52:37.067025Z"
    }
   },
   "cell_type": "code",
   "source": [
    "import matplotlib.pyplot as plt\n",
    "import pandas as pd\n",
    "import seaborn as sns\n",
    "from nltk.corpus import stopwords\n",
    "from sklearn.feature_extraction.text import CountVectorizer\n",
    "from sklearn.feature_extraction.text import TfidfTransformer\n",
    "from wordcloud import WordCloud\n",
    "import nltk\n",
    "from seaborn import color_palette\n",
    "\n",
    "nltk.download('stopwords')\n",
    "\n",
    "palette = sns.color_palette([\"#2176AB\", \"#F97662\", \"#FFBF00\", \"#50C878\", \"#B284BE\"])\n",
    "sns.set_palette(palette)\n",
    "\n",
    "df = pd.read_csv('../../dataset/tables_clean.csv')\n",
    "\n",
    "df.describe()"
   ],
   "id": "initial_id",
   "outputs": [
    {
     "name": "stderr",
     "output_type": "stream",
     "text": [
      "[nltk_data] Downloading package stopwords to /home/marco/nltk_data...\n",
      "[nltk_data]   Package stopwords is already up-to-date!\n"
     ]
    },
    {
     "data": {
      "text/plain": [
       "         n_columns       n_rows      n_cells  caption_len  n_references  \\\n",
       "count  1544.000000  1544.000000  1544.000000  1544.000000   1544.000000   \n",
       "mean      4.601684    12.843264    68.614637   136.539508     10.766839   \n",
       "std       3.565155    20.679263   160.754579   172.775921     12.442481   \n",
       "min       1.000000     1.000000     1.000000     0.000000      0.000000   \n",
       "25%       3.000000     4.000000    15.000000    48.000000      3.000000   \n",
       "50%       4.000000     8.000000    28.000000    77.000000      8.000000   \n",
       "75%       6.000000    14.000000    56.250000   168.000000     14.000000   \n",
       "max      80.000000   433.000000  3031.000000  2983.000000    117.000000   \n",
       "\n",
       "       n_footnotes  \n",
       "count  1544.000000  \n",
       "mean      0.518135  \n",
       "std       9.815851  \n",
       "min       0.000000  \n",
       "25%       0.000000  \n",
       "50%       0.000000  \n",
       "75%       0.000000  \n",
       "max     369.000000  "
      ],
      "text/html": [
       "<div>\n",
       "<style scoped>\n",
       "    .dataframe tbody tr th:only-of-type {\n",
       "        vertical-align: middle;\n",
       "    }\n",
       "\n",
       "    .dataframe tbody tr th {\n",
       "        vertical-align: top;\n",
       "    }\n",
       "\n",
       "    .dataframe thead th {\n",
       "        text-align: right;\n",
       "    }\n",
       "</style>\n",
       "<table border=\"1\" class=\"dataframe\">\n",
       "  <thead>\n",
       "    <tr style=\"text-align: right;\">\n",
       "      <th></th>\n",
       "      <th>n_columns</th>\n",
       "      <th>n_rows</th>\n",
       "      <th>n_cells</th>\n",
       "      <th>caption_len</th>\n",
       "      <th>n_references</th>\n",
       "      <th>n_footnotes</th>\n",
       "    </tr>\n",
       "  </thead>\n",
       "  <tbody>\n",
       "    <tr>\n",
       "      <th>count</th>\n",
       "      <td>1544.000000</td>\n",
       "      <td>1544.000000</td>\n",
       "      <td>1544.000000</td>\n",
       "      <td>1544.000000</td>\n",
       "      <td>1544.000000</td>\n",
       "      <td>1544.000000</td>\n",
       "    </tr>\n",
       "    <tr>\n",
       "      <th>mean</th>\n",
       "      <td>4.601684</td>\n",
       "      <td>12.843264</td>\n",
       "      <td>68.614637</td>\n",
       "      <td>136.539508</td>\n",
       "      <td>10.766839</td>\n",
       "      <td>0.518135</td>\n",
       "    </tr>\n",
       "    <tr>\n",
       "      <th>std</th>\n",
       "      <td>3.565155</td>\n",
       "      <td>20.679263</td>\n",
       "      <td>160.754579</td>\n",
       "      <td>172.775921</td>\n",
       "      <td>12.442481</td>\n",
       "      <td>9.815851</td>\n",
       "    </tr>\n",
       "    <tr>\n",
       "      <th>min</th>\n",
       "      <td>1.000000</td>\n",
       "      <td>1.000000</td>\n",
       "      <td>1.000000</td>\n",
       "      <td>0.000000</td>\n",
       "      <td>0.000000</td>\n",
       "      <td>0.000000</td>\n",
       "    </tr>\n",
       "    <tr>\n",
       "      <th>25%</th>\n",
       "      <td>3.000000</td>\n",
       "      <td>4.000000</td>\n",
       "      <td>15.000000</td>\n",
       "      <td>48.000000</td>\n",
       "      <td>3.000000</td>\n",
       "      <td>0.000000</td>\n",
       "    </tr>\n",
       "    <tr>\n",
       "      <th>50%</th>\n",
       "      <td>4.000000</td>\n",
       "      <td>8.000000</td>\n",
       "      <td>28.000000</td>\n",
       "      <td>77.000000</td>\n",
       "      <td>8.000000</td>\n",
       "      <td>0.000000</td>\n",
       "    </tr>\n",
       "    <tr>\n",
       "      <th>75%</th>\n",
       "      <td>6.000000</td>\n",
       "      <td>14.000000</td>\n",
       "      <td>56.250000</td>\n",
       "      <td>168.000000</td>\n",
       "      <td>14.000000</td>\n",
       "      <td>0.000000</td>\n",
       "    </tr>\n",
       "    <tr>\n",
       "      <th>max</th>\n",
       "      <td>80.000000</td>\n",
       "      <td>433.000000</td>\n",
       "      <td>3031.000000</td>\n",
       "      <td>2983.000000</td>\n",
       "      <td>117.000000</td>\n",
       "      <td>369.000000</td>\n",
       "    </tr>\n",
       "  </tbody>\n",
       "</table>\n",
       "</div>"
      ]
     },
     "execution_count": 4,
     "metadata": {},
     "output_type": "execute_result"
    }
   ],
   "execution_count": 4
  },
  {
   "metadata": {
    "ExecuteTime": {
     "end_time": "2024-10-21T08:32:04.138321Z",
     "start_time": "2024-10-21T08:32:03.869007Z"
    }
   },
   "cell_type": "code",
   "source": [
    "# TF-IDF Analysis of the dataset\n",
    "\n",
    "# Create a vectorizer\n",
    "vectorizer = CountVectorizer()\n",
    "\n",
    "# Fit the vectorizer\n",
    "X = vectorizer.fit_transform(df['caption'].fillna(''))\n",
    "\n",
    "# Create a transformer\n",
    "transformer = TfidfTransformer()\n",
    "\n",
    "# Fit the transformer\n",
    "tfidf = transformer.fit_transform(X)\n",
    "\n",
    "# Get the feature names\n",
    "feature_names = vectorizer.get_feature_names_out()\n",
    "\n",
    "# Create a dataframe\n",
    "df_tfidf = pd.DataFrame(tfidf.toarray(), columns=feature_names)\n",
    "\n",
    "# Get the top 10 words\n",
    "top_words = df_tfidf.sum().sort_values(ascending=False).head(300)\n",
    "\n",
    "# filter out common words and numbers\n",
    "stop_words = set(stopwords.words('english'))\n",
    "top_words = top_words[~top_words.index.isin(stop_words)]\n",
    "top_words = top_words[~top_words.index.str.isnumeric()]\n",
    "\n",
    "#dark grey\n",
    "\n",
    "\n",
    "# Plot the wordcloud of the top 10 words\n",
    "wordcloud = (WordCloud(width=1100, height=600, background_color='#222222', colormap='Spectral_r')\n",
    "             .generate_from_frequencies(top_words))\n",
    "\n",
    "plt.figure(figsize=(10, 5))\n",
    "plt.imshow(wordcloud, interpolation='bilinear')\n",
    "plt.axis('off')\n",
    "plt.savefig('output/wordcloud.png', dpi=500)\n"
   ],
   "id": "b1cbc3680b5b8ad9",
   "outputs": [
    {
     "ename": "TypeError",
     "evalue": "'_ColorPalette' object is not callable",
     "output_type": "error",
     "traceback": [
      "\u001B[0;31m---------------------------------------------------------------------------\u001B[0m",
      "\u001B[0;31mTypeError\u001B[0m                                 Traceback (most recent call last)",
      "Cell \u001B[0;32mIn[43], line 34\u001B[0m\n\u001B[1;32m     27\u001B[0m top_words \u001B[38;5;241m=\u001B[39m top_words[\u001B[38;5;241m~\u001B[39mtop_words\u001B[38;5;241m.\u001B[39mindex\u001B[38;5;241m.\u001B[39mstr\u001B[38;5;241m.\u001B[39misnumeric()]\n\u001B[1;32m     29\u001B[0m \u001B[38;5;66;03m#dark grey\u001B[39;00m\n\u001B[1;32m     30\u001B[0m \n\u001B[1;32m     31\u001B[0m \n\u001B[1;32m     32\u001B[0m \u001B[38;5;66;03m# Plot the wordcloud of the top 10 words\u001B[39;00m\n\u001B[1;32m     33\u001B[0m wordcloud \u001B[38;5;241m=\u001B[39m (\u001B[43mWordCloud\u001B[49m\u001B[43m(\u001B[49m\u001B[43mwidth\u001B[49m\u001B[38;5;241;43m=\u001B[39;49m\u001B[38;5;241;43m1100\u001B[39;49m\u001B[43m,\u001B[49m\u001B[43m \u001B[49m\u001B[43mheight\u001B[49m\u001B[38;5;241;43m=\u001B[39;49m\u001B[38;5;241;43m600\u001B[39;49m\u001B[43m,\u001B[49m\u001B[43m \u001B[49m\u001B[43mbackground_color\u001B[49m\u001B[38;5;241;43m=\u001B[39;49m\u001B[38;5;124;43m'\u001B[39;49m\u001B[38;5;124;43m#222222\u001B[39;49m\u001B[38;5;124;43m'\u001B[39;49m\u001B[43m,\u001B[49m\u001B[43m \u001B[49m\u001B[43mcolor_func\u001B[49m\u001B[38;5;241;43m=\u001B[39;49m\u001B[43mpalette\u001B[49m\u001B[43m)\u001B[49m\n\u001B[0;32m---> 34\u001B[0m \u001B[43m             \u001B[49m\u001B[38;5;241;43m.\u001B[39;49m\u001B[43mgenerate_from_frequencies\u001B[49m\u001B[43m(\u001B[49m\u001B[43mtop_words\u001B[49m\u001B[43m)\u001B[49m)\n\u001B[1;32m     36\u001B[0m plt\u001B[38;5;241m.\u001B[39mfigure(figsize\u001B[38;5;241m=\u001B[39m(\u001B[38;5;241m10\u001B[39m, \u001B[38;5;241m5\u001B[39m))\n\u001B[1;32m     37\u001B[0m plt\u001B[38;5;241m.\u001B[39mimshow(wordcloud, interpolation\u001B[38;5;241m=\u001B[39m\u001B[38;5;124m'\u001B[39m\u001B[38;5;124mbilinear\u001B[39m\u001B[38;5;124m'\u001B[39m)\n",
      "File \u001B[0;32m~/PycharmProjects/IDD_HW/HW_1/venv/lib64/python3.12/site-packages/wordcloud/wordcloud.py:453\u001B[0m, in \u001B[0;36mWordCloud.generate_from_frequencies\u001B[0;34m(self, frequencies, max_font_size)\u001B[0m\n\u001B[1;32m    451\u001B[0m     font_size \u001B[38;5;241m=\u001B[39m \u001B[38;5;28mself\u001B[39m\u001B[38;5;241m.\u001B[39mheight\n\u001B[1;32m    452\u001B[0m \u001B[38;5;28;01melse\u001B[39;00m:\n\u001B[0;32m--> 453\u001B[0m     \u001B[38;5;28;43mself\u001B[39;49m\u001B[38;5;241;43m.\u001B[39;49m\u001B[43mgenerate_from_frequencies\u001B[49m\u001B[43m(\u001B[49m\u001B[38;5;28;43mdict\u001B[39;49m\u001B[43m(\u001B[49m\u001B[43mfrequencies\u001B[49m\u001B[43m[\u001B[49m\u001B[43m:\u001B[49m\u001B[38;5;241;43m2\u001B[39;49m\u001B[43m]\u001B[49m\u001B[43m)\u001B[49m\u001B[43m,\u001B[49m\n\u001B[1;32m    454\u001B[0m \u001B[43m                                   \u001B[49m\u001B[43mmax_font_size\u001B[49m\u001B[38;5;241;43m=\u001B[39;49m\u001B[38;5;28;43mself\u001B[39;49m\u001B[38;5;241;43m.\u001B[39;49m\u001B[43mheight\u001B[49m\u001B[43m)\u001B[49m\n\u001B[1;32m    455\u001B[0m     \u001B[38;5;66;03m# find font sizes\u001B[39;00m\n\u001B[1;32m    456\u001B[0m     sizes \u001B[38;5;241m=\u001B[39m [x[\u001B[38;5;241m1\u001B[39m] \u001B[38;5;28;01mfor\u001B[39;00m x \u001B[38;5;129;01min\u001B[39;00m \u001B[38;5;28mself\u001B[39m\u001B[38;5;241m.\u001B[39mlayout_]\n",
      "File \u001B[0;32m~/PycharmProjects/IDD_HW/HW_1/venv/lib64/python3.12/site-packages/wordcloud/wordcloud.py:539\u001B[0m, in \u001B[0;36mWordCloud.generate_from_frequencies\u001B[0;34m(self, frequencies, max_font_size)\u001B[0m\n\u001B[1;32m    537\u001B[0m orientations\u001B[38;5;241m.\u001B[39mappend(orientation)\n\u001B[1;32m    538\u001B[0m font_sizes\u001B[38;5;241m.\u001B[39mappend(font_size)\n\u001B[0;32m--> 539\u001B[0m colors\u001B[38;5;241m.\u001B[39mappend(\u001B[38;5;28;43mself\u001B[39;49m\u001B[38;5;241;43m.\u001B[39;49m\u001B[43mcolor_func\u001B[49m\u001B[43m(\u001B[49m\u001B[43mword\u001B[49m\u001B[43m,\u001B[49m\u001B[43m \u001B[49m\u001B[43mfont_size\u001B[49m\u001B[38;5;241;43m=\u001B[39;49m\u001B[43mfont_size\u001B[49m\u001B[43m,\u001B[49m\n\u001B[1;32m    540\u001B[0m \u001B[43m                              \u001B[49m\u001B[43mposition\u001B[49m\u001B[38;5;241;43m=\u001B[39;49m\u001B[43m(\u001B[49m\u001B[43mx\u001B[49m\u001B[43m,\u001B[49m\u001B[43m \u001B[49m\u001B[43my\u001B[49m\u001B[43m)\u001B[49m\u001B[43m,\u001B[49m\n\u001B[1;32m    541\u001B[0m \u001B[43m                              \u001B[49m\u001B[43morientation\u001B[49m\u001B[38;5;241;43m=\u001B[39;49m\u001B[43morientation\u001B[49m\u001B[43m,\u001B[49m\n\u001B[1;32m    542\u001B[0m \u001B[43m                              \u001B[49m\u001B[43mrandom_state\u001B[49m\u001B[38;5;241;43m=\u001B[39;49m\u001B[43mrandom_state\u001B[49m\u001B[43m,\u001B[49m\n\u001B[1;32m    543\u001B[0m \u001B[43m                              \u001B[49m\u001B[43mfont_path\u001B[49m\u001B[38;5;241;43m=\u001B[39;49m\u001B[38;5;28;43mself\u001B[39;49m\u001B[38;5;241;43m.\u001B[39;49m\u001B[43mfont_path\u001B[49m\u001B[43m)\u001B[49m)\n\u001B[1;32m    544\u001B[0m \u001B[38;5;66;03m# recompute integral image\u001B[39;00m\n\u001B[1;32m    545\u001B[0m \u001B[38;5;28;01mif\u001B[39;00m \u001B[38;5;28mself\u001B[39m\u001B[38;5;241m.\u001B[39mmask \u001B[38;5;129;01mis\u001B[39;00m \u001B[38;5;28;01mNone\u001B[39;00m:\n",
      "\u001B[0;31mTypeError\u001B[0m: '_ColorPalette' object is not callable"
     ]
    }
   ],
   "execution_count": 43
  },
  {
   "metadata": {
    "ExecuteTime": {
     "end_time": "2024-10-21T07:59:56.549013Z",
     "start_time": "2024-10-21T07:59:56.091471Z"
    }
   },
   "cell_type": "code",
   "source": [
    "\n",
    "# TF-IDF Analysis of the dataset\n",
    "from sklearn.feature_extraction.text import CountVectorizer\n",
    "from sklearn.feature_extraction.text import TfidfTransformer\n",
    "from wordcloud import WordCloud\n",
    "\n",
    "# Create a vectorizer\n",
    "vectorizer = CountVectorizer()\n",
    "\n",
    "# Fit the vectorizer\n",
    "X = vectorizer.fit_transform(df['columns'].fillna(''))\n",
    "\n",
    "# Create a transformer\n",
    "transformer = TfidfTransformer()\n",
    "\n",
    "# Fit the transformer\n",
    "tfidf = transformer.fit_transform(X)\n",
    "\n",
    "# Get the feature names\n",
    "feature_names = vectorizer.get_feature_names_out()\n",
    "\n",
    "# Create a dataframe\n",
    "df_tfidf = pd.DataFrame(tfidf.toarray(), columns=feature_names)\n",
    "top_words = df_tfidf.sum().sort_values(ascending=False).head(10)\n",
    "\n",
    "# filter out common words and numbers\n",
    "stop_words = set(stopwords.words('english'))\n",
    "top_words = top_words[~top_words.index.isin(stop_words)]\n",
    "top_words = top_words[~top_words.index.str.isnumeric()]\n",
    "\n",
    "# bar plot of the top 10 words\n",
    "plt.figure(figsize=(10, 5))\n",
    "top_words.plot(kind='bar', color=palette[3])\n",
    "plt.xlabel('Words')\n",
    "plt.ylabel('TF-IDF')\n",
    "plt.title('Top 10 words by TF-IDF')\n",
    "plt.xticks(rotation=45)\n",
    "plt.grid(axis='y')\n",
    "plt.savefig('output/top_words.png', dpi=300)\n",
    "\n"
   ],
   "id": "24610bf1644a2f12",
   "outputs": [
    {
     "data": {
      "text/plain": [
       "<Figure size 1000x500 with 1 Axes>"
      ],
      "image/png": "[encoded data removed]"
     },
     "metadata": {},
     "output_type": "display_data"
    }
   ],
   "execution_count": 35
  },
  {
   "metadata": {
    "ExecuteTime": {
     "end_time": "2024-10-21T07:52:38.513362Z",
     "start_time": "2024-10-21T07:52:38.509762Z"
    }
   },
   "cell_type": "code",
   "source": "",
   "id": "3d3e9ccdb3e19b46",
   "outputs": [],
   "execution_count": null
  }
 ],
 "metadata": {
  "kernelspec": {
   "display_name": "Python 3",
   "language": "python",
   "name": "python3"
  },
  "language_info": {
   "codemirror_mode": {
    "name": "ipython",
    "version": 2
   },
   "file_extension": ".py",
   "mimetype": "text/x-python",
   "name": "python",
   "nbconvert_exporter": "python",
   "pygments_lexer": "ipython2",
   "version": "2.7.6"
  }
 },
 "nbformat": 4,
 "nbformat_minor": 5
}
