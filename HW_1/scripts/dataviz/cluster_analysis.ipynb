{
 "cells": [
  {
   "metadata": {
    "collapsed": true
   },
   "cell_type": "code",
   "source": [
    "import os\n",
    "\n",
    "import seaborn as sns\n",
    "import itertools\n",
    "import re\n",
    "import networkx as nx\n",
    "import matplotlib.pyplot as plt\n",
    "from certifi import contents\n",
    "from webcolors import names\n",
    "\n",
    "palette = sns.color_palette([\"#2176AB\", \"#F97662\", \"#FFBF00\", \"#50C878\", \"#B284BE\"])\n",
    "sns.set_palette(palette)\n"
   ],
   "id": "initial_id",
   "outputs": [],
   "execution_count": null
  },
  {
   "metadata": {},
   "cell_type": "code",
   "source": [
    "def read_html_files(folder_path, limit=None):\n",
    "    html_files = {}  # {name, content}\n",
    "    for i, file in enumerate(os.listdir(folder_path)):\n",
    "        if limit is not None and i >= limit:\n",
    "            break\n",
    "        if file.endswith(\".html\"):\n",
    "            with open(os.path.join(folder_path, file), \"r\") as f:\n",
    "                # add the file name and content to the dictionary\n",
    "                html_files.update({file: f.read()})\n",
    "                \n",
    "    return html_files\n",
    "\n",
    "\n",
    "\n",
    "def extract_text_from_html(html_content):\n",
    "    # Rimuovere i tag HTML\n",
    "    clean_text = re.sub(r'<[^>]+>', '', html_content)\n",
    "    return clean_text\n",
    "\n",
    "def jaccard_similarity(set1, set2):\n",
    "    intersection = len(set1.intersection(set2))\n",
    "    union = len(set1.union(set2))\n",
    "    return intersection / union if union != 0 else 0\n",
    "\n",
    "def create_shingles(text, k=5):\n",
    "    # Dividere il testo in shingles (sottostringhe di lunghezza k)\n",
    "    return {text[i:i + k] for i in range(len(text) - k + 1)}\n",
    "\n",
    "def build_similarity_graph(html_documents, k=5):\n",
    "    G = nx.Graph()\n",
    "\n",
    "    shingles_dict = {}\n",
    "\n",
    "    # Creare shingles per ogni documento HTML\n",
    "    for key, value in html_documents.items():\n",
    "        text = extract_text_from_html(value)\n",
    "        shingles_dict[key] = create_shingles(text, k)\n",
    "        \n",
    "    # Aggiungere nodi al grafo  \n",
    "    for key in html_documents.keys():\n",
    "        G.add_node(str(key).rstrip('.html'))\n",
    "\n",
    "    # Aggiungere archi basati sulla somiglianza Jaccard\n",
    "    keys = list(html_documents.keys())\n",
    "    for (i, j) in itertools.combinations(keys, 2):\n",
    "        sim = jaccard_similarity(shingles_dict[i], shingles_dict[j])\n",
    "        G.add_edge(i, j, weight=sim)\n",
    "\n",
    "    return G\n",
    "\n"
   ],
   "id": "4147a79cd2e20f70",
   "outputs": [],
   "execution_count": null
  },
  {
   "metadata": {},
   "cell_type": "code",
   "source": [
    "html_folder = \"../../sources\"  # Il nome della cartella contenente gli HTML\n",
    "html_files = read_html_files(html_folder)  # Leggere i file HTML\n",
    "\n",
    "# Creare il grafo dei vertici (documenti HTML)\n",
    "G = build_similarity_graph(html_files, k=5)\n",
    "\n",
    "nx.write_gexf(G, \"../../dataset/graphs/similarity_graph.gexf\")"
   ],
   "id": "8da385375f95ed28",
   "outputs": [],
   "execution_count": null
  },
  {
   "metadata": {},
   "cell_type": "code",
   "source": [
    "#plotting the clusters\n",
    "\n",
    "plt.figure(figsize=(10, 8))\n",
    "pos = nx.spring_layout(G)\n",
    "nx.draw(G, pos, with_labels=True, node_size=20, node_color=palette[0], font_size=10)\n",
    "plt.title(\"Similarity Graph\")\n",
    "plt.show()\n",
    "\n"
   ],
   "id": "66475dbcce666812",
   "outputs": [],
   "execution_count": null
  }
 ],
 "metadata": {
  "kernelspec": {
   "display_name": "Python 3",
   "language": "python",
   "name": "python3"
  },
  "language_info": {
   "codemirror_mode": {
    "name": "ipython",
    "version": 2
   },
   "file_extension": ".py",
   "mimetype": "text/x-python",
   "name": "python",
   "nbconvert_exporter": "python",
   "pygments_lexer": "ipython2",
   "version": "2.7.6"
  }
 },
 "nbformat": 4,
 "nbformat_minor": 5
}
