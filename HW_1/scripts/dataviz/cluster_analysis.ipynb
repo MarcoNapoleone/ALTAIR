{
 "cells": [
  {
   "metadata": {
    "collapsed": true,
    "ExecuteTime": {
     "end_time": "2024-10-20T13:56:44.859735Z",
     "start_time": "2024-10-20T13:56:44.804289Z"
    }
   },
   "cell_type": "code",
   "source": [
    "\n",
    "import seaborn as sns\n",
    "from sklearn.metrics import jaccard_score\n",
    "import pandas as pd\n",
    "from sklearn.cluster import KMeans\n",
    "import matplotlib.pyplot as plt\n",
    "\n",
    "\n",
    "palette = sns.color_palette([\"#2176AB\", \"#F97662\", \"#FFBF00\", \"#50C878\", \"#B284BE\"])\n",
    "sns.set_palette(palette)\n",
    "\n",
    "df = pd.read_csv('../../dataset/tables_clean.csv')\n",
    "\n",
    "df.head()"
   ],
   "id": "initial_id",
   "outputs": [
    {
     "data": {
      "text/plain": [
       "      id                                            caption footnotes  \\\n",
       "0  S3.T1  tabl|1|the|cosin|similar|between|the|princip|s...      ['']   \n",
       "1  S5.T2  tabl|2|perform|comparison|in|term|of|ndcg|betw...      ['']   \n",
       "2  S5.T3  tabl|3|ndcg20|comparison|with|lightgcn|and|xsi...      ['']   \n",
       "3  A2.T4  tabl|4|the|proport|of|interact|of|the|top|20|o...      ['']   \n",
       "4  A2.T5  tabl|5|the|valu|of|963|1|2|superscript|subscri...      ['']   \n",
       "\n",
       "                                          references       id_file  \\\n",
       "0                                               ['']  2404.12008v3   \n",
       "1  ['comparison|under|three|test|paradigm|tabl|2|...  2404.12008v3   \n",
       "2  ['to|investig|the|adapt|of|resn', 'we|evalu|it...  2404.12008v3   \n",
       "3                                               ['']  2404.12008v3   \n",
       "4  ['tabl|5|present|the|valu|of|n|n|n|963n|1n|2n|...  2404.12008v3   \n",
       "\n",
       "                                             columns  n_columns  \\\n",
       "0         ['backbon', 'movielen', 'douban', 'globo']          4   \n",
       "1  ['movielen', 'douban', 'yelp2018', 'gowalla', ...          7   \n",
       "2                  ['movielen', 'douban', 'gowalla']          3   \n",
       "3                 ['movielens1m', 'douban', 'globo']          3   \n",
       "4           ['model', 'movielen', 'douban', 'globo']          4   \n",
       "\n",
       "                                                rows  n_rows  n_cells  \\\n",
       "0  ['mse|bce|bpr|mse|bce|bpr|mse|bce|bpr', 'mf|09...       4       16   \n",
       "1  ['com|deb|com|deb|com|deb|com|deb|com|deb|uni|...       8       56   \n",
       "2  ['lgcn|xsgcl|lgcn|xsgcl|lgcn|xsgcl', 'backbon|...      10       30   \n",
       "3                                    ['673|863|905']       1        3   \n",
       "4  ['s|1|2|superscript|subscript|1|2|sigma12|ital...       3       12   \n",
       "\n",
       "   caption_len  n_references  n_footnotes  \n",
       "0          643             0            0  \n",
       "1          698             8            0  \n",
       "2           58             9            0  \n",
       "3           92             0            0  \n",
       "4         1341            17            0  "
      ],
      "text/html": [
       "<div>\n",
       "<style scoped>\n",
       "    .dataframe tbody tr th:only-of-type {\n",
       "        vertical-align: middle;\n",
       "    }\n",
       "\n",
       "    .dataframe tbody tr th {\n",
       "        vertical-align: top;\n",
       "    }\n",
       "\n",
       "    .dataframe thead th {\n",
       "        text-align: right;\n",
       "    }\n",
       "</style>\n",
       "<table border=\"1\" class=\"dataframe\">\n",
       "  <thead>\n",
       "    <tr style=\"text-align: right;\">\n",
       "      <th></th>\n",
       "      <th>id</th>\n",
       "      <th>caption</th>\n",
       "      <th>footnotes</th>\n",
       "      <th>references</th>\n",
       "      <th>id_file</th>\n",
       "      <th>columns</th>\n",
       "      <th>n_columns</th>\n",
       "      <th>rows</th>\n",
       "      <th>n_rows</th>\n",
       "      <th>n_cells</th>\n",
       "      <th>caption_len</th>\n",
       "      <th>n_references</th>\n",
       "      <th>n_footnotes</th>\n",
       "    </tr>\n",
       "  </thead>\n",
       "  <tbody>\n",
       "    <tr>\n",
       "      <th>0</th>\n",
       "      <td>S3.T1</td>\n",
       "      <td>tabl|1|the|cosin|similar|between|the|princip|s...</td>\n",
       "      <td>['']</td>\n",
       "      <td>['']</td>\n",
       "      <td>2404.12008v3</td>\n",
       "      <td>['backbon', 'movielen', 'douban', 'globo']</td>\n",
       "      <td>4</td>\n",
       "      <td>['mse|bce|bpr|mse|bce|bpr|mse|bce|bpr', 'mf|09...</td>\n",
       "      <td>4</td>\n",
       "      <td>16</td>\n",
       "      <td>643</td>\n",
       "      <td>0</td>\n",
       "      <td>0</td>\n",
       "    </tr>\n",
       "    <tr>\n",
       "      <th>1</th>\n",
       "      <td>S5.T2</td>\n",
       "      <td>tabl|2|perform|comparison|in|term|of|ndcg|betw...</td>\n",
       "      <td>['']</td>\n",
       "      <td>['comparison|under|three|test|paradigm|tabl|2|...</td>\n",
       "      <td>2404.12008v3</td>\n",
       "      <td>['movielen', 'douban', 'yelp2018', 'gowalla', ...</td>\n",
       "      <td>7</td>\n",
       "      <td>['com|deb|com|deb|com|deb|com|deb|com|deb|uni|...</td>\n",
       "      <td>8</td>\n",
       "      <td>56</td>\n",
       "      <td>698</td>\n",
       "      <td>8</td>\n",
       "      <td>0</td>\n",
       "    </tr>\n",
       "    <tr>\n",
       "      <th>2</th>\n",
       "      <td>S5.T3</td>\n",
       "      <td>tabl|3|ndcg20|comparison|with|lightgcn|and|xsi...</td>\n",
       "      <td>['']</td>\n",
       "      <td>['to|investig|the|adapt|of|resn', 'we|evalu|it...</td>\n",
       "      <td>2404.12008v3</td>\n",
       "      <td>['movielen', 'douban', 'gowalla']</td>\n",
       "      <td>3</td>\n",
       "      <td>['lgcn|xsgcl|lgcn|xsgcl|lgcn|xsgcl', 'backbon|...</td>\n",
       "      <td>10</td>\n",
       "      <td>30</td>\n",
       "      <td>58</td>\n",
       "      <td>9</td>\n",
       "      <td>0</td>\n",
       "    </tr>\n",
       "    <tr>\n",
       "      <th>3</th>\n",
       "      <td>A2.T4</td>\n",
       "      <td>tabl|4|the|proport|of|interact|of|the|top|20|o...</td>\n",
       "      <td>['']</td>\n",
       "      <td>['']</td>\n",
       "      <td>2404.12008v3</td>\n",
       "      <td>['movielens1m', 'douban', 'globo']</td>\n",
       "      <td>3</td>\n",
       "      <td>['673|863|905']</td>\n",
       "      <td>1</td>\n",
       "      <td>3</td>\n",
       "      <td>92</td>\n",
       "      <td>0</td>\n",
       "      <td>0</td>\n",
       "    </tr>\n",
       "    <tr>\n",
       "      <th>4</th>\n",
       "      <td>A2.T5</td>\n",
       "      <td>tabl|5|the|valu|of|963|1|2|superscript|subscri...</td>\n",
       "      <td>['']</td>\n",
       "      <td>['tabl|5|present|the|valu|of|n|n|n|963n|1n|2n|...</td>\n",
       "      <td>2404.12008v3</td>\n",
       "      <td>['model', 'movielen', 'douban', 'globo']</td>\n",
       "      <td>4</td>\n",
       "      <td>['s|1|2|superscript|subscript|1|2|sigma12|ital...</td>\n",
       "      <td>3</td>\n",
       "      <td>12</td>\n",
       "      <td>1341</td>\n",
       "      <td>17</td>\n",
       "      <td>0</td>\n",
       "    </tr>\n",
       "  </tbody>\n",
       "</table>\n",
       "</div>"
      ]
     },
     "execution_count": 40,
     "metadata": {},
     "output_type": "execute_result"
    }
   ],
   "execution_count": 40
  },
  {
   "metadata": {
    "ExecuteTime": {
     "end_time": "2024-10-20T13:56:44.901335Z",
     "start_time": "2024-10-20T13:56:44.899242Z"
    }
   },
   "cell_type": "code",
   "source": [
    "\n",
    "text_data = df['caption'].fillna('')\n"
   ],
   "id": "1f0cfaaa6b8cddfd",
   "outputs": [],
   "execution_count": 41
  },
  {
   "metadata": {
    "ExecuteTime": {
     "end_time": "2024-10-20T13:56:44.975048Z",
     "start_time": "2024-10-20T13:56:44.930291Z"
    }
   },
   "cell_type": "code",
   "source": [
    "\n",
    "\n",
    "\n"
   ],
   "id": "accadc7719b2e3ea",
   "outputs": [],
   "execution_count": 42
  },
  {
   "metadata": {
    "ExecuteTime": {
     "end_time": "2024-10-20T13:56:45.263951Z",
     "start_time": "2024-10-20T13:56:45.262578Z"
    }
   },
   "cell_type": "code",
   "source": "",
   "id": "f8e16f7bb0c93e79",
   "outputs": [],
   "execution_count": null
  }
 ],
 "metadata": {
  "kernelspec": {
   "display_name": "Python 3",
   "language": "python",
   "name": "python3"
  },
  "language_info": {
   "codemirror_mode": {
    "name": "ipython",
    "version": 2
   },
   "file_extension": ".py",
   "mimetype": "text/x-python",
   "name": "python",
   "nbconvert_exporter": "python",
   "pygments_lexer": "ipython2",
   "version": "2.7.6"
  }
 },
 "nbformat": 4,
 "nbformat_minor": 5
}
