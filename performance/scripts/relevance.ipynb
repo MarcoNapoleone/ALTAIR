{
 "cells": [
  {
   "cell_type": "code",
   "id": "initial_id",
   "metadata": {
    "collapsed": true,
    "ExecuteTime": {
     "end_time": "2024-11-26T22:35:08.335435Z",
     "start_time": "2024-11-26T22:35:08.322967Z"
    }
   },
   "source": [
    "\n",
    "\n",
    "import pandas as pd\n",
    "import os\n",
    "\n",
    "output_dir = '../relevance'\n",
    "\n",
    "\n",
    "results = []\n",
    "for file in os.listdir(output_dir):\n",
    "    with open(f'{output_dir}/{file}', 'r') as f:\n",
    "        response = f.read()\n",
    "        # removing [, ] and \\n\n",
    "        response = response.replace('[', '').replace(']', '').replace('\\n', '').replace('\"', '')\n",
    "        score, relevant = response.split('|')\n",
    "        index, query = file.split('_')\n",
    "        results.append({\n",
    "            'index': index,\n",
    "            'query': query.split('.')[0],\n",
    "            'score': score,\n",
    "            'relevant': relevant.split(' ')[0]\n",
    "        })\n",
    "\n",
    "df_results = pd.DataFrame(results)\n",
    "df_results.to_csv('results.csv', index=False)\n"
   ],
   "outputs": [],
   "execution_count": 4
  }
 ],
 "metadata": {
  "kernelspec": {
   "display_name": "Python 3",
   "language": "python",
   "name": "python3"
  },
  "language_info": {
   "codemirror_mode": {
    "name": "ipython",
    "version": 2
   },
   "file_extension": ".py",
   "mimetype": "text/x-python",
   "name": "python",
   "nbconvert_exporter": "python",
   "pygments_lexer": "ipython2",
   "version": "2.7.6"
  }
 },
 "nbformat": 4,
 "nbformat_minor": 5
}
