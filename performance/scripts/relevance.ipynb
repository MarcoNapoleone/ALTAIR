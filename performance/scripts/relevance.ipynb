{
 "cells": [
  {
   "cell_type": "code",
   "id": "initial_id",
   "metadata": {
    "collapsed": true,
    "ExecuteTime": {
     "end_time": "2024-11-30T16:16:01.680436Z",
     "start_time": "2024-11-30T16:16:01.675301Z"
    }
   },
   "source": [
    "import pandas as pd\n",
    "import requests\n",
    "from anyio import sleep\n",
    "\n",
    "llm_res = pd.read_csv('../gym/llm_response.csv')\n",
    "altair_res = pd.read_csv('../gym/altair_response.csv')\n"
   ],
   "outputs": [],
   "execution_count": 32
  },
  {
   "metadata": {
    "ExecuteTime": {
     "end_time": "2024-11-30T16:16:01.698485Z",
     "start_time": "2024-11-30T16:16:01.695232Z"
    }
   },
   "cell_type": "code",
   "source": [
    "\n",
    "\n",
    "def true_positives(llm, altair):\n",
    "    return len(set(llm['id']).intersection(set(altair['id'])))\n",
    "\n",
    "def false_positives(llm, altair):\n",
    "    return len(altair) - true_positives(llm, altair)\n",
    "\n",
    "def false_negatives(llm, altair):\n",
    "    return len(llm) - true_positives(llm, altair)\n",
    "\n",
    "def precision(tp, fp):\n",
    "    return tp / (tp + fp)\n",
    "\n",
    "def recall(tp, fn):\n",
    "    return tp / (tp + fn)\n",
    "\n",
    "def f1_score(precision, recall):\n",
    "    return 2 * (precision * recall) / (precision + recall)\n"
   ],
   "id": "28b9e38beb5d9d9b",
   "outputs": [],
   "execution_count": 33
  },
  {
   "metadata": {
    "ExecuteTime": {
     "end_time": "2024-11-30T16:16:01.759275Z",
     "start_time": "2024-11-30T16:16:01.751809Z"
    }
   },
   "cell_type": "code",
   "source": [
    "# F1 score using the relevance data\n",
    "\n",
    "# F1 = 2 * (precision * recall) / (precision + recall)\n",
    "# precision = tp / (tp + fp)\n",
    "# recall = tp / (tp + fn)\n",
    "\n",
    "# llm_res contains the ground truth relevance data\n",
    "# altair_res contains the relevance data from the Altair API\n",
    "\n",
    "scores = []\n",
    "\n",
    "for i in range(1, 11):\n",
    "    llm = llm_res.loc[(llm_res['query_id'] == i) & (llm_res['relevant'] == True)]\n",
    "    altair = altair_res[altair_res['query_id'] == i]\n",
    "    \n",
    "    tp = true_positives(llm, altair)\n",
    "    fp = false_positives(llm, altair)\n",
    "    fn = false_negatives(llm, altair)\n",
    "    \n",
    "    p = precision(tp, fp)\n",
    "    r = recall(tp, fn)\n",
    "    \n",
    "    f1 = f1_score(p, r)    \n",
    "    scores.append({'query_id': i, 'f1': f1, 'precision': p, 'recall': r})\n"
   ],
   "id": "da059e45131d0e6a",
   "outputs": [],
   "execution_count": 34
  },
  {
   "metadata": {
    "ExecuteTime": {
     "end_time": "2024-11-30T16:16:01.810120Z",
     "start_time": "2024-11-30T16:16:01.807953Z"
    }
   },
   "cell_type": "code",
   "source": [
    "mean_f1 = sum([score['f1'] for score in scores]) / len(scores)\n",
    "mean_precision = sum([score['precision'] for score in scores]) / len(scores)\n",
    "mean_recall = sum([score['recall'] for score in scores]) / len(scores)\n",
    "\n",
    "print(f'Mean F1 score: {mean_f1}')\n",
    "print(f'Mean precision: {mean_precision}')\n",
    "print(f'Mean recall: {mean_recall}')\n"
   ],
   "id": "edf533ee099f9b99",
   "outputs": [
    {
     "name": "stdout",
     "output_type": "stream",
     "text": [
      "Mean F1 score: 0.2145115346330196\n",
      "Mean precision: 0.13105590062111802\n",
      "Mean recall: 0.9738095238095237\n"
     ]
    }
   ],
   "execution_count": 35
  },
  {
   "metadata": {
    "ExecuteTime": {
     "end_time": "2024-11-30T16:16:01.961840Z",
     "start_time": "2024-11-30T16:16:01.960306Z"
    }
   },
   "cell_type": "code",
   "source": "",
   "id": "5432cf6f1aa94ca0",
   "outputs": [],
   "execution_count": null
  }
 ],
 "metadata": {
  "kernelspec": {
   "display_name": "Python 3",
   "language": "python",
   "name": "python3"
  },
  "language_info": {
   "codemirror_mode": {
    "name": "ipython",
    "version": 2
   },
   "file_extension": ".py",
   "mimetype": "text/x-python",
   "name": "python",
   "nbconvert_exporter": "python",
   "pygments_lexer": "ipython2",
   "version": "2.7.6"
  }
 },
 "nbformat": 4,
 "nbformat_minor": 5
}
