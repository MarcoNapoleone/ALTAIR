{
 "cells": [
  {
   "cell_type": "code",
   "id": "initial_id",
   "metadata": {
    "collapsed": true,
    "ExecuteTime": {
     "end_time": "2024-11-26T22:56:31.889410Z",
     "start_time": "2024-11-26T22:39:45.712755Z"
    }
   },
   "source": [
    "import ollama\n",
    "\n",
    "ollama.pull('gemma2:27b')\n",
    "\n",
    "response = ollama.chat(\n",
    "    model='gemma2:27b',\n",
    "    messages=[{'role': 'user', 'content': 'Why is the sky blue?'}]\n",
    ")\n",
    "print(response['message']['content'])\n"
   ],
   "outputs": [
    {
     "name": "stdout",
     "output_type": "stream",
     "text": [
      "The sky appears blue due to a phenomenon called **Rayleigh scattering**.\n",
      "\n",
      "Here's how it works:\n",
      "\n",
      "1. **Sunlight Enters the Atmosphere:** Sunlight is actually white, containing all colors of the rainbow. When sunlight enters the Earth's atmosphere, it collides with tiny air molecules (mostly nitrogen and oxygen).\n",
      "2. **Scattering Occurs:** These air molecules are much smaller than the wavelengths of visible light. As a result, they scatter the shorter wavelengths of light (blue and violet) more effectively than longer wavelengths (red, orange, yellow).\n",
      "3. **Blue Light Dominates:** The scattered blue light travels in many directions, making the sky appear blue to our eyes.\n",
      "\n",
      "**Why not Violet?**\n",
      "\n",
      "Even though violet light is scattered even more than blue light, our eyes are less sensitive to violet wavelengths. Therefore, we perceive the sky as predominantly blue.\n",
      "\n",
      "\n",
      "Let me know if you have any other questions!\n"
     ]
    }
   ],
   "execution_count": 30
  },
  {
   "metadata": {
    "ExecuteTime": {
     "end_time": "2024-11-26T22:56:31.986167Z",
     "start_time": "2024-11-26T22:56:31.981242Z"
    }
   },
   "cell_type": "code",
   "source": [
    "import pandas as pd\n",
    "\n",
    "output_dir = '../relevance'\n",
    "\n",
    "df = pd.read_csv('../gym/data.csv')"
   ],
   "id": "3d5f9e9e05f1696a",
   "outputs": [],
   "execution_count": 31
  },
  {
   "metadata": {
    "ExecuteTime": {
     "end_time": "2024-11-28T15:38:03.776847Z",
     "start_time": "2024-11-28T15:38:03.566258Z"
    }
   },
   "cell_type": "code",
   "source": [
    "# for each row of the dataframe, we will ask the model to generate a response\n",
    "# We want to know if the  table is relevant to the queries we have and a score of how relevant it is to the query\n",
    "# then add to each row the 10 queries as columns and the score of the model for each query\n",
    "\n",
    "\n",
    "queries = {\n",
    "    1: '(Graph structured) AND (visual Question Answering)',\n",
    "    2: '\"Autonomous Surface Vehicles\" AND \"Federated Learning\"',\n",
    "    3: 'RAG AND (Long-context LLM) OR (long context language model)',\n",
    "    4: 'Applications of visual question answering systems',\n",
    "    5: 'Fairness AND socials',\n",
    "    6: '(Regulatory Capture AND IA OR ML) OR (Regulatory Capture OR Machine Learning)',\n",
    "    7: '(Segmentation OR SAM) AND failure',\n",
    "    8: '(Graph Convolutional Network) OR (GCN) AND ',\n",
    "    9: '((Question Answering) AND (visual)) OR (VQA)',\n",
    "    10: 'FL AND decentralised',\n",
    "}\n",
    "\n",
    "response_format = '{ \"relevant\": true, //boolean \\n \"score\": 0.9, //float \\n \"explanation\": \"The quick brown fox jumps over the lazy dog\" //string (only if needed and max 30 word)}'\n",
    "\n",
    "def get_prompt(query, table):\n",
    "    return (f\"Given the table [{table}], how relevant is the table to the query: [{query}]?\"\n",
    "            f\" please provide a score between 0 and 1 and true or false if the table is relevant to the query,\"\n",
    "            f\" response must be in the JSON format: {response_format}\")\n",
    "\n",
    "def get_prompt_response(query, table):\n",
    "    response = ollama.chat(\n",
    "        model='gemma2',\n",
    "        messages=[{'role': 'user', 'content': get_prompt(query, table)}]\n",
    "    )\n",
    "    return response['message']['content']\n",
    "\n",
    "\n",
    "# for each row of the dataframe, we will ask the model to generate a response\n",
    "# then we export to json the results \n",
    "for index, row in df.iterrows():\n",
    "    for query in queries:\n",
    "        try:\n",
    "            response = get_prompt_response(queries[query], row)\n",
    "            score, relevant = response.split('|')\n",
    "            print(f\"Exporting {index}_{query}.json\")\n",
    "            with open(f'{output_dir}/{index}_{query}.json', 'w') as f:\n",
    "                f.write(response)\n",
    "        except Exception as e:\n",
    "            print(e)\n",
    "            print(response)\n",
    "            print(queries[query], row)\n",
    "            break        \n"
   ],
   "id": "c5ce1baab7596343",
   "outputs": [
    {
     "ename": "NameError",
     "evalue": "name 'df' is not defined",
     "output_type": "error",
     "traceback": [
      "\u001B[0;31m---------------------------------------------------------------------------\u001B[0m",
      "\u001B[0;31mNameError\u001B[0m                                 Traceback (most recent call last)",
      "Cell \u001B[0;32mIn[1], line 35\u001B[0m\n\u001B[1;32m     30\u001B[0m     \u001B[38;5;28;01mreturn\u001B[39;00m response[\u001B[38;5;124m'\u001B[39m\u001B[38;5;124mmessage\u001B[39m\u001B[38;5;124m'\u001B[39m][\u001B[38;5;124m'\u001B[39m\u001B[38;5;124mcontent\u001B[39m\u001B[38;5;124m'\u001B[39m]\n\u001B[1;32m     33\u001B[0m \u001B[38;5;66;03m# for each row of the dataframe, we will ask the model to generate a response\u001B[39;00m\n\u001B[1;32m     34\u001B[0m \u001B[38;5;66;03m# then we export to json the results \u001B[39;00m\n\u001B[0;32m---> 35\u001B[0m \u001B[38;5;28;01mfor\u001B[39;00m index, row \u001B[38;5;129;01min\u001B[39;00m \u001B[43mdf\u001B[49m\u001B[38;5;241m.\u001B[39miterrows():\n\u001B[1;32m     36\u001B[0m     \u001B[38;5;28;01mfor\u001B[39;00m query \u001B[38;5;129;01min\u001B[39;00m queries:\n\u001B[1;32m     37\u001B[0m         \u001B[38;5;28;01mtry\u001B[39;00m:\n",
      "\u001B[0;31mNameError\u001B[0m: name 'df' is not defined"
     ]
    }
   ],
   "execution_count": 1
  }
 ],
 "metadata": {
  "kernelspec": {
   "display_name": "Python 3",
   "language": "python",
   "name": "python3"
  },
  "language_info": {
   "codemirror_mode": {
    "name": "ipython",
    "version": 2
   },
   "file_extension": ".py",
   "mimetype": "text/x-python",
   "name": "python",
   "nbconvert_exporter": "python",
   "pygments_lexer": "ipython2",
   "version": "2.7.6"
  }
 },
 "nbformat": 4,
 "nbformat_minor": 5
}
