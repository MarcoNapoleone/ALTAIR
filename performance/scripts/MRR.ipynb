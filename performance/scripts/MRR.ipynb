{
 "cells": [
  {
   "metadata": {},
   "cell_type": "markdown",
   "source": " # Mean Reciprocal Rank (MRR)",
   "id": "d41b611c7c334e44"
  },
  {
   "metadata": {
    "ExecuteTime": {
     "end_time": "2024-12-01T14:01:54.946008Z",
     "start_time": "2024-12-01T14:01:54.929753Z"
    }
   },
   "cell_type": "code",
   "source": [
    "import pandas as pd\n",
    "import seaborn as sns\n",
    "\n",
    "palette = sns.color_palette([\"#2176AB\", \"#F97662\", \"#FFBF00\", \"#50C878\", \"#B284BE\"])\n",
    "sns.set_palette(palette)\n",
    "\n",
    "\n",
    "llm_res = pd.read_csv('../gym/results/llm_response.csv')\n",
    "altair_res = pd.read_csv('../gym/results/altair_response.csv')\n",
    "\n",
    "llm_res.drop(columns=['model', 'index', 'file_id', 'table_id'], inplace=True)\n",
    "llm_res = llm_res.groupby(['id', 'query_id']).mean().reset_index()\n",
    "\n",
    "altair_res = altair_res[(altair_res['threshold']*10).astype(int) == 3]\n",
    "altair_res.drop(columns=['query', 'threshold', 'file_id', 'table_id'], inplace=True)\n",
    "\n",
    "# get a df with all\n",
    "df = pd.merge(llm_res, altair_res, on=['id', 'query_id'], how='inner')\n",
    "df"
   ],
   "id": "c368e0f583c0e895",
   "outputs": [
    {
     "data": {
      "text/plain": [
       "                       id  query_id     score  relevant  order\n",
       "0      1609.05600v2_S5.T1         1  0.075000      0.00      0\n",
       "1      1609.05600v2_S5.T1         2  0.050000      0.00    108\n",
       "2      1609.05600v2_S5.T1         4  0.250000      0.25      1\n",
       "3      1609.05600v2_S5.T1         5  0.025000      0.00     16\n",
       "4      1609.05600v2_S5.T1         9  0.837500      1.00      1\n",
       "..                    ...       ...       ...       ...    ...\n",
       "558   2410.13042v1_Sx1.T0        10  0.050000      0.00     25\n",
       "559  2410.13042v1_Sx1.T0a         2  0.025000      0.00    134\n",
       "560  2410.13042v1_Sx1.T0a         5  0.175000      0.25     23\n",
       "561  2410.13042v1_Sx1.T0a         6  0.442500      0.50     12\n",
       "562  2410.13042v1_Sx1.T0a        10  0.033333      0.00     26\n",
       "\n",
       "[563 rows x 5 columns]"
      ],
      "text/html": [
       "<div>\n",
       "<style scoped>\n",
       "    .dataframe tbody tr th:only-of-type {\n",
       "        vertical-align: middle;\n",
       "    }\n",
       "\n",
       "    .dataframe tbody tr th {\n",
       "        vertical-align: top;\n",
       "    }\n",
       "\n",
       "    .dataframe thead th {\n",
       "        text-align: right;\n",
       "    }\n",
       "</style>\n",
       "<table border=\"1\" class=\"dataframe\">\n",
       "  <thead>\n",
       "    <tr style=\"text-align: right;\">\n",
       "      <th></th>\n",
       "      <th>id</th>\n",
       "      <th>query_id</th>\n",
       "      <th>score</th>\n",
       "      <th>relevant</th>\n",
       "      <th>order</th>\n",
       "    </tr>\n",
       "  </thead>\n",
       "  <tbody>\n",
       "    <tr>\n",
       "      <th>0</th>\n",
       "      <td>1609.05600v2_S5.T1</td>\n",
       "      <td>1</td>\n",
       "      <td>0.075000</td>\n",
       "      <td>0.00</td>\n",
       "      <td>0</td>\n",
       "    </tr>\n",
       "    <tr>\n",
       "      <th>1</th>\n",
       "      <td>1609.05600v2_S5.T1</td>\n",
       "      <td>2</td>\n",
       "      <td>0.050000</td>\n",
       "      <td>0.00</td>\n",
       "      <td>108</td>\n",
       "    </tr>\n",
       "    <tr>\n",
       "      <th>2</th>\n",
       "      <td>1609.05600v2_S5.T1</td>\n",
       "      <td>4</td>\n",
       "      <td>0.250000</td>\n",
       "      <td>0.25</td>\n",
       "      <td>1</td>\n",
       "    </tr>\n",
       "    <tr>\n",
       "      <th>3</th>\n",
       "      <td>1609.05600v2_S5.T1</td>\n",
       "      <td>5</td>\n",
       "      <td>0.025000</td>\n",
       "      <td>0.00</td>\n",
       "      <td>16</td>\n",
       "    </tr>\n",
       "    <tr>\n",
       "      <th>4</th>\n",
       "      <td>1609.05600v2_S5.T1</td>\n",
       "      <td>9</td>\n",
       "      <td>0.837500</td>\n",
       "      <td>1.00</td>\n",
       "      <td>1</td>\n",
       "    </tr>\n",
       "    <tr>\n",
       "      <th>...</th>\n",
       "      <td>...</td>\n",
       "      <td>...</td>\n",
       "      <td>...</td>\n",
       "      <td>...</td>\n",
       "      <td>...</td>\n",
       "    </tr>\n",
       "    <tr>\n",
       "      <th>558</th>\n",
       "      <td>2410.13042v1_Sx1.T0</td>\n",
       "      <td>10</td>\n",
       "      <td>0.050000</td>\n",
       "      <td>0.00</td>\n",
       "      <td>25</td>\n",
       "    </tr>\n",
       "    <tr>\n",
       "      <th>559</th>\n",
       "      <td>2410.13042v1_Sx1.T0a</td>\n",
       "      <td>2</td>\n",
       "      <td>0.025000</td>\n",
       "      <td>0.00</td>\n",
       "      <td>134</td>\n",
       "    </tr>\n",
       "    <tr>\n",
       "      <th>560</th>\n",
       "      <td>2410.13042v1_Sx1.T0a</td>\n",
       "      <td>5</td>\n",
       "      <td>0.175000</td>\n",
       "      <td>0.25</td>\n",
       "      <td>23</td>\n",
       "    </tr>\n",
       "    <tr>\n",
       "      <th>561</th>\n",
       "      <td>2410.13042v1_Sx1.T0a</td>\n",
       "      <td>6</td>\n",
       "      <td>0.442500</td>\n",
       "      <td>0.50</td>\n",
       "      <td>12</td>\n",
       "    </tr>\n",
       "    <tr>\n",
       "      <th>562</th>\n",
       "      <td>2410.13042v1_Sx1.T0a</td>\n",
       "      <td>10</td>\n",
       "      <td>0.033333</td>\n",
       "      <td>0.00</td>\n",
       "      <td>26</td>\n",
       "    </tr>\n",
       "  </tbody>\n",
       "</table>\n",
       "<p>563 rows × 5 columns</p>\n",
       "</div>"
      ]
     },
     "execution_count": 34,
     "metadata": {},
     "output_type": "execute_result"
    }
   ],
   "execution_count": 34
  },
  {
   "metadata": {
    "ExecuteTime": {
     "end_time": "2024-12-01T14:01:54.995447Z",
     "start_time": "2024-12-01T14:01:54.989013Z"
    }
   },
   "cell_type": "code",
   "source": [
    "# kendal correlation between df order and score\n",
    "from scipy.stats import spearmanr\n",
    "\n",
    "print(spearmanr(df['relevant'], df['score']))\n",
    "print(spearmanr(df['order'], df['score']))\n"
   ],
   "id": "a6386d2eed369750",
   "outputs": [
    {
     "name": "stdout",
     "output_type": "stream",
     "text": [
      "SignificanceResult(statistic=0.5951268688933677, pvalue=3.0781480642802495e-55)\n",
      "SignificanceResult(statistic=-0.26236122418374264, pvalue=2.5743793715020916e-10)\n"
     ]
    }
   ],
   "execution_count": 35
  },
  {
   "metadata": {
    "ExecuteTime": {
     "end_time": "2024-12-01T14:01:55.150613Z",
     "start_time": "2024-12-01T14:01:55.136925Z"
    }
   },
   "cell_type": "code",
   "source": [
    "scores = []\n",
    "\n",
    "for i in range(1, 11):\n",
    "    altair_table = altair_res[altair_res['query_id'] == i].sort_values('order')\n",
    "    llm_table = llm_res[(llm_res['query_id'] == i) & (llm_res['relevant'] >= 0.2)]\n",
    "\n",
    "    # get the first relevant document in altair_table\n",
    "    # through the altair table to get the first relevant document in the llm table\n",
    "    for j in range(len(altair_table)):\n",
    "        if altair_table.iloc[j]['id'] in llm_table['id'].values:\n",
    "            scores.append(1 / (j + 1))\n",
    "            break\n",
    "\n",
    "mrr = sum(scores) / len(scores)\n",
    "print(f\"MRR: {mrr}\")"
   ],
   "id": "15a803549e81082",
   "outputs": [
    {
     "name": "stdout",
     "output_type": "stream",
     "text": [
      "MRR: 0.6207912457912458\n"
     ]
    }
   ],
   "execution_count": 36
  },
  {
   "metadata": {
    "ExecuteTime": {
     "end_time": "2024-12-01T14:01:55.206339Z",
     "start_time": "2024-12-01T14:01:55.205101Z"
    }
   },
   "cell_type": "code",
   "source": "",
   "id": "e7dec87e6f7574f1",
   "outputs": [],
   "execution_count": null
  }
 ],
 "metadata": {
  "kernelspec": {
   "display_name": "Python 3",
   "language": "python",
   "name": "python3"
  },
  "language_info": {
   "codemirror_mode": {
    "name": "ipython",
    "version": 2
   },
   "file_extension": ".py",
   "mimetype": "text/x-python",
   "name": "python",
   "nbconvert_exporter": "python",
   "pygments_lexer": "ipython2",
   "version": "2.7.6"
  }
 },
 "nbformat": 4,
 "nbformat_minor": 5
}
