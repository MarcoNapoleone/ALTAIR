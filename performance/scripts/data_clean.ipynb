{
 "cells": [
  {
   "metadata": {
    "ExecuteTime": {
     "end_time": "2024-11-28T21:22:22.259047Z",
     "start_time": "2024-11-28T21:22:22.256153Z"
    }
   },
   "cell_type": "code",
   "source": [
    "from nltk import PorterStemmer\n",
    "import json\n",
    "import os\n",
    "from unidecode import unidecode\n",
    "import re\n",
    "\n",
    "\n",
    "input_dir = '../gym/json/'\n",
    "\n",
    "### JSON example\n",
    "# {\n",
    "#     \"PAPER'S NUMBER OF TABLES\": 5,   to be removed\n",
    "#     \"S1.T1\": {                       the table_id\n",
    "#         \"caption\": \"Table 1. Existing\",\n",
    "#         \"table\": \"<table id=\\\"S1.T1.1.1\\\" +</tr>\\n</table>\\n\\n\",\n",
    "#         \"footnotes\": [\n",
    "#             \"1\"\n",
    "#         ],\n",
    "#         \"references\": [\n",
    "#             \"A\",\n",
    "#         ],\n",
    "#     },\n",
    "# }\n",
    "\n",
    "def read_json(file):\n",
    "    with open(file, 'r') as f:\n",
    "        data = json.load(f)\n",
    "    return data\n",
    "\n",
    "\n",
    "def clean_text(text):\n",
    "    \n",
    "    #cast to string\n",
    "    text = str(text)\n",
    "    text = text.strip()\n",
    "    # Remove HTML tags and attributes\n",
    "    text = re.sub(r'<[^>]*>', ' ', text)\n",
    "    # De-accent\n",
    "    text = unidecode(text)\n",
    "    # Remove special characters\n",
    "    text = re.sub(r'[^a-zA-Z0-9\\s]', ' ', text)\n",
    "    \n",
    "    # Remove multiple spaces and newlines\n",
    "    text = re.sub(r'\\s+', ' ', text)\n",
    "    text = re.sub(r'\\n+', ' ', text)\n",
    "\n",
    "    return text"
   ],
   "id": "891439d2656e4c96",
   "outputs": [],
   "execution_count": 21
  },
  {
   "metadata": {
    "ExecuteTime": {
     "end_time": "2024-11-28T21:22:22.647397Z",
     "start_time": "2024-11-28T21:22:22.266489Z"
    }
   },
   "cell_type": "code",
   "source": [
    "# Creating a table with table_id, caption, footnotes, references\n",
    "\n",
    "import pandas as pd\n",
    "\n",
    "df = pd.DataFrame(columns=['id, table_id', 'table_body', 'caption', 'references'])\n",
    "\n",
    "for file in os.listdir(input_dir):\n",
    "    data = read_json(input_dir + file)\n",
    "    for table_id in data:\n",
    "        if table_id == \"PAPER'S NUMBER OF TABLES\":\n",
    "            continue\n",
    "        table = data[table_id]\n",
    "        table_body = clean_text(table['table'])\n",
    "        caption = clean_text(table['caption'])\n",
    "        references = clean_text(' '.join(table['references']))\n",
    "        df.loc[len(df)] = [table_id, table_body, caption, references]\n",
    "\n",
    "df.head()"
   ],
   "id": "38583c6b01f378da",
   "outputs": [
    {
     "data": {
      "text/plain": [
       "  id, table_id                                         table_body  \\\n",
       "0        S5.T1   Avg score Avg accuracy Method over scenes ove...   \n",
       "1        S5.T2   Multiple choice Open ended Method Overall Yes...   \n",
       "2        S3.T1   Notation Meaning U U mathcal U of devices u i...   \n",
       "3        S4.T2   Method 1 Target Label N 1 N 1 N 1 N 2 N 2 N 2...   \n",
       "4        S4.T3   Number of Averaging Samples p p p p 1 p 1 p 1...   \n",
       "\n",
       "                                             caption  \\\n",
       "0  Table 1 Results on the test set of the balance...   \n",
       "1  Table 2 Results on the test set of the abstrac...   \n",
       "2                          Table 1 List of Notations   \n",
       "3  Table 2 Test accuracy evaluation for different...   \n",
       "4  Table 3 MDS comparison mean standard deviation...   \n",
       "\n",
       "                                          references  \n",
       "0  We compare our method against the three models...  \n",
       "1  We report our results on the original abstract...  \n",
       "2                                                     \n",
       "3                                                     \n",
       "4                                                     "
      ],
      "text/html": [
       "<div>\n",
       "<style scoped>\n",
       "    .dataframe tbody tr th:only-of-type {\n",
       "        vertical-align: middle;\n",
       "    }\n",
       "\n",
       "    .dataframe tbody tr th {\n",
       "        vertical-align: top;\n",
       "    }\n",
       "\n",
       "    .dataframe thead th {\n",
       "        text-align: right;\n",
       "    }\n",
       "</style>\n",
       "<table border=\"1\" class=\"dataframe\">\n",
       "  <thead>\n",
       "    <tr style=\"text-align: right;\">\n",
       "      <th></th>\n",
       "      <th>id, table_id</th>\n",
       "      <th>table_body</th>\n",
       "      <th>caption</th>\n",
       "      <th>references</th>\n",
       "    </tr>\n",
       "  </thead>\n",
       "  <tbody>\n",
       "    <tr>\n",
       "      <th>0</th>\n",
       "      <td>S5.T1</td>\n",
       "      <td>Avg score Avg accuracy Method over scenes ove...</td>\n",
       "      <td>Table 1 Results on the test set of the balance...</td>\n",
       "      <td>We compare our method against the three models...</td>\n",
       "    </tr>\n",
       "    <tr>\n",
       "      <th>1</th>\n",
       "      <td>S5.T2</td>\n",
       "      <td>Multiple choice Open ended Method Overall Yes...</td>\n",
       "      <td>Table 2 Results on the test set of the abstrac...</td>\n",
       "      <td>We report our results on the original abstract...</td>\n",
       "    </tr>\n",
       "    <tr>\n",
       "      <th>2</th>\n",
       "      <td>S3.T1</td>\n",
       "      <td>Notation Meaning U U mathcal U of devices u i...</td>\n",
       "      <td>Table 1 List of Notations</td>\n",
       "      <td></td>\n",
       "    </tr>\n",
       "    <tr>\n",
       "      <th>3</th>\n",
       "      <td>S4.T2</td>\n",
       "      <td>Method 1 Target Label N 1 N 1 N 1 N 2 N 2 N 2...</td>\n",
       "      <td>Table 2 Test accuracy evaluation for different...</td>\n",
       "      <td></td>\n",
       "    </tr>\n",
       "    <tr>\n",
       "      <th>4</th>\n",
       "      <td>S4.T3</td>\n",
       "      <td>Number of Averaging Samples p p p p 1 p 1 p 1...</td>\n",
       "      <td>Table 3 MDS comparison mean standard deviation...</td>\n",
       "      <td></td>\n",
       "    </tr>\n",
       "  </tbody>\n",
       "</table>\n",
       "</div>"
      ]
     },
     "execution_count": 22,
     "metadata": {},
     "output_type": "execute_result"
    }
   ],
   "execution_count": 22
  },
  {
   "metadata": {
    "ExecuteTime": {
     "end_time": "2024-11-28T21:22:22.678734Z",
     "start_time": "2024-11-28T21:22:22.669476Z"
    }
   },
   "cell_type": "code",
   "source": "df.to_csv('../gym/data.csv', index=True)",
   "id": "87d8a58f54f7ddbf",
   "outputs": [],
   "execution_count": 23
  },
  {
   "metadata": {
    "ExecuteTime": {
     "end_time": "2024-11-28T21:22:22.701048Z",
     "start_time": "2024-11-28T21:22:22.696808Z"
    }
   },
   "cell_type": "code",
   "source": "df[54:55]",
   "id": "1a21fb780b34d95e",
   "outputs": [
    {
     "data": {
      "text/plain": [
       "   id, table_id                                         table_body  \\\n",
       "54        S4.T2   Obs 2 Local EMD downarrow Obs 3 Global EMD do...   \n",
       "\n",
       "                                              caption  \\\n",
       "54  Table 2 Local EMD and global EMD on CIFAR 10 W...   \n",
       "\n",
       "                                           references  \n",
       "54  More precisely we verify that the local only m...  "
      ],
      "text/html": [
       "<div>\n",
       "<style scoped>\n",
       "    .dataframe tbody tr th:only-of-type {\n",
       "        vertical-align: middle;\n",
       "    }\n",
       "\n",
       "    .dataframe tbody tr th {\n",
       "        vertical-align: top;\n",
       "    }\n",
       "\n",
       "    .dataframe thead th {\n",
       "        text-align: right;\n",
       "    }\n",
       "</style>\n",
       "<table border=\"1\" class=\"dataframe\">\n",
       "  <thead>\n",
       "    <tr style=\"text-align: right;\">\n",
       "      <th></th>\n",
       "      <th>id, table_id</th>\n",
       "      <th>table_body</th>\n",
       "      <th>caption</th>\n",
       "      <th>references</th>\n",
       "    </tr>\n",
       "  </thead>\n",
       "  <tbody>\n",
       "    <tr>\n",
       "      <th>54</th>\n",
       "      <td>S4.T2</td>\n",
       "      <td>Obs 2 Local EMD downarrow Obs 3 Global EMD do...</td>\n",
       "      <td>Table 2 Local EMD and global EMD on CIFAR 10 W...</td>\n",
       "      <td>More precisely we verify that the local only m...</td>\n",
       "    </tr>\n",
       "  </tbody>\n",
       "</table>\n",
       "</div>"
      ]
     },
     "execution_count": 24,
     "metadata": {},
     "output_type": "execute_result"
    }
   ],
   "execution_count": 24
  }
 ],
 "metadata": {
  "kernelspec": {
   "display_name": "Python 3",
   "language": "python",
   "name": "python3"
  },
  "language_info": {
   "codemirror_mode": {
    "name": "ipython",
    "version": 2
   },
   "file_extension": ".py",
   "mimetype": "text/x-python",
   "name": "python",
   "nbconvert_exporter": "python",
   "pygments_lexer": "ipython2",
   "version": "2.7.6"
  }
 },
 "nbformat": 4,
 "nbformat_minor": 5
}
