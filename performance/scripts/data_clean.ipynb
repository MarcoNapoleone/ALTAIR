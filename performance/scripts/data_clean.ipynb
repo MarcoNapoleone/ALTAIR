{
 "cells": [
  {
   "metadata": {
    "ExecuteTime": {
     "end_time": "2024-11-26T19:30:57.446340Z",
     "start_time": "2024-11-26T19:30:57.440630Z"
    }
   },
   "cell_type": "code",
   "source": [
    "import json\n",
    "import os\n",
    "\n",
    "\n",
    "input_dir = '../gym/json/'\n",
    "\n",
    "### JSON example\n",
    "# {\n",
    "#     \"PAPER'S NUMBER OF TABLES\": 5,   to be removed\n",
    "#     \"S1.T1\": {                       the table_id\n",
    "#         \"caption\": \"Table 1. Existing\",\n",
    "#         \"table\": \"<table id=\\\"S1.T1.1.1\\\" +</tr>\\n</table>\\n\\n\",\n",
    "#         \"footnotes\": [\n",
    "#             \"1\"\n",
    "#         ],\n",
    "#         \"references\": [\n",
    "#             \"A\",\n",
    "#         ],\n",
    "#     },\n",
    "# }\n",
    "\n",
    "def read_json(file):\n",
    "    with open(file, 'r') as f:\n",
    "        data = json.load(f)\n",
    "    return data\n"
   ],
   "id": "891439d2656e4c96",
   "outputs": [],
   "execution_count": 7
  },
  {
   "metadata": {
    "ExecuteTime": {
     "end_time": "2024-11-26T19:30:57.542754Z",
     "start_time": "2024-11-26T19:30:57.488950Z"
    }
   },
   "cell_type": "code",
   "source": [
    "# Creating a table with table_id, caption, footnotes, references\n",
    "\n",
    "import pandas as pd\n",
    "\n",
    "df = pd.DataFrame(columns=['index, table_id', 'caption', 'references'])\n",
    "\n",
    "for file in os.listdir(input_dir):\n",
    "    data = read_json(input_dir + file)\n",
    "    for table_id in data:\n",
    "        if table_id == \"PAPER'S NUMBER OF TABLES\":\n",
    "            continue\n",
    "        table = data[table_id]\n",
    "        caption = table['caption']\n",
    "        references = table['references']\n",
    "        df.loc[len(df)] = [table_id, caption, references]\n"
   ],
   "id": "38583c6b01f378da",
   "outputs": [],
   "execution_count": 8
  },
  {
   "metadata": {
    "ExecuteTime": {
     "end_time": "2024-11-26T19:30:57.559816Z",
     "start_time": "2024-11-26T19:30:57.551104Z"
    }
   },
   "cell_type": "code",
   "source": "df.to_csv('data.csv', index=True)",
   "id": "87d8a58f54f7ddbf",
   "outputs": [],
   "execution_count": 9
  },
  {
   "metadata": {
    "ExecuteTime": {
     "end_time": "2024-11-26T19:30:57.597556Z",
     "start_time": "2024-11-26T19:30:57.595592Z"
    }
   },
   "cell_type": "code",
   "source": "",
   "id": "1a21fb780b34d95e",
   "outputs": [],
   "execution_count": null
  }
 ],
 "metadata": {
  "kernelspec": {
   "display_name": "Python 3",
   "language": "python",
   "name": "python3"
  },
  "language_info": {
   "codemirror_mode": {
    "name": "ipython",
    "version": 2
   },
   "file_extension": ".py",
   "mimetype": "text/x-python",
   "name": "python",
   "nbconvert_exporter": "python",
   "pygments_lexer": "ipython2",
   "version": "2.7.6"
  }
 },
 "nbformat": 4,
 "nbformat_minor": 5
}
