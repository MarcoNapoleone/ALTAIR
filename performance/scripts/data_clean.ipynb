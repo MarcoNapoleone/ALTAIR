{
 "cells": [
  {
   "metadata": {
    "ExecuteTime": {
     "end_time": "2024-11-26T22:06:55.307673Z",
     "start_time": "2024-11-26T22:06:55.304527Z"
    }
   },
   "cell_type": "code",
   "source": [
    "from nltk import PorterStemmer\n",
    "import json\n",
    "import os\n",
    "from unidecode import unidecode\n",
    "import re\n",
    "\n",
    "\n",
    "input_dir = '../gym/json/'\n",
    "\n",
    "### JSON example\n",
    "# {\n",
    "#     \"PAPER'S NUMBER OF TABLES\": 5,   to be removed\n",
    "#     \"S1.T1\": {                       the table_id\n",
    "#         \"caption\": \"Table 1. Existing\",\n",
    "#         \"table\": \"<table id=\\\"S1.T1.1.1\\\" +</tr>\\n</table>\\n\\n\",\n",
    "#         \"footnotes\": [\n",
    "#             \"1\"\n",
    "#         ],\n",
    "#         \"references\": [\n",
    "#             \"A\",\n",
    "#         ],\n",
    "#     },\n",
    "# }\n",
    "\n",
    "def read_json(file):\n",
    "    with open(file, 'r') as f:\n",
    "        data = json.load(f)\n",
    "    return data\n",
    "\n",
    "\n",
    "def clean_text(text):\n",
    "    # Remove leading and trailing whitespaces\n",
    "    #cast to string\n",
    "    text = str(text)\n",
    "\n",
    "    text = text.strip()\n",
    "\n",
    "    # Remove HTML tags and attributes\n",
    "    text = re.sub(r'<[^>]*>', '', text)\n",
    "\n",
    "    # De-accent\n",
    "    text = unidecode(text)\n",
    "    \n",
    "    # Remove special characters\n",
    "    text = re.sub(r'[^a-zA-Z0-9\\s]', '', text)\n",
    "\n",
    "    # Stemming\n",
    "    stemmer = PorterStemmer()\n",
    "    text = ' '.join([stemmer.stem(word) for word in text.split()])\n",
    "\n",
    "    return text"
   ],
   "id": "891439d2656e4c96",
   "outputs": [],
   "execution_count": 4
  },
  {
   "metadata": {
    "ExecuteTime": {
     "end_time": "2024-11-26T22:06:55.655832Z",
     "start_time": "2024-11-26T22:06:55.362490Z"
    }
   },
   "cell_type": "code",
   "source": [
    "# Creating a table with table_id, caption, footnotes, references\n",
    "\n",
    "import pandas as pd\n",
    "\n",
    "df = pd.DataFrame(columns=['id, table_id', 'table_body', 'caption', 'references'])\n",
    "\n",
    "for file in os.listdir(input_dir):\n",
    "    data = read_json(input_dir + file)\n",
    "    for table_id in data:\n",
    "        if table_id == \"PAPER'S NUMBER OF TABLES\":\n",
    "            continue\n",
    "        table = data[table_id]\n",
    "        table_body = clean_text(table['table'])\n",
    "        caption = clean_text(table['caption'])\n",
    "        references = clean_text(' '.join(table['references']))\n",
    "        df.loc[len(df)] = [table_id, table_body, caption, references]\n",
    "\n",
    "df.head()"
   ],
   "id": "38583c6b01f378da",
   "outputs": [
    {
     "data": {
      "text/plain": [
       "  id, table_id                                         table_body  \\\n",
       "0        S4.T1  dataset testa testb recal precis recal precis ...   \n",
       "1        S4.T2  random weight 3dwreal weight 3dwsyn weight rec...   \n",
       "2        S2.T1  notat descript nknknk total number of edg node...   \n",
       "3        S3.T1  categori symbol type descript feder learn fram...   \n",
       "4        S4.T2  model type train method recal mean recal highe...   \n",
       "\n",
       "                                             caption  \\\n",
       "0  tabl 1 perform comparison among train dataset ...   \n",
       "1  tabl 2 train on 3dwreal 3dwsyn with three set ...   \n",
       "2         tabl i the notat frequent use in thi paper   \n",
       "3            tabl i variabl in feder learn framework   \n",
       "4     tabl ii predict accuraci of differ train model   \n",
       "\n",
       "                                          references  \n",
       "0  we evalu the perform of the propos framework o...  \n",
       "1  final we studi the effect of pretrain weight u...  \n",
       "2  in thi paper we consid a typic mec network whe...  \n",
       "3  in thi section the architectur and implement d...  \n",
       "4  four motor data set refer to section iva belon...  "
      ],
      "text/html": [
       "<div>\n",
       "<style scoped>\n",
       "    .dataframe tbody tr th:only-of-type {\n",
       "        vertical-align: middle;\n",
       "    }\n",
       "\n",
       "    .dataframe tbody tr th {\n",
       "        vertical-align: top;\n",
       "    }\n",
       "\n",
       "    .dataframe thead th {\n",
       "        text-align: right;\n",
       "    }\n",
       "</style>\n",
       "<table border=\"1\" class=\"dataframe\">\n",
       "  <thead>\n",
       "    <tr style=\"text-align: right;\">\n",
       "      <th></th>\n",
       "      <th>id, table_id</th>\n",
       "      <th>table_body</th>\n",
       "      <th>caption</th>\n",
       "      <th>references</th>\n",
       "    </tr>\n",
       "  </thead>\n",
       "  <tbody>\n",
       "    <tr>\n",
       "      <th>0</th>\n",
       "      <td>S4.T1</td>\n",
       "      <td>dataset testa testb recal precis recal precis ...</td>\n",
       "      <td>tabl 1 perform comparison among train dataset ...</td>\n",
       "      <td>we evalu the perform of the propos framework o...</td>\n",
       "    </tr>\n",
       "    <tr>\n",
       "      <th>1</th>\n",
       "      <td>S4.T2</td>\n",
       "      <td>random weight 3dwreal weight 3dwsyn weight rec...</td>\n",
       "      <td>tabl 2 train on 3dwreal 3dwsyn with three set ...</td>\n",
       "      <td>final we studi the effect of pretrain weight u...</td>\n",
       "    </tr>\n",
       "    <tr>\n",
       "      <th>2</th>\n",
       "      <td>S2.T1</td>\n",
       "      <td>notat descript nknknk total number of edg node...</td>\n",
       "      <td>tabl i the notat frequent use in thi paper</td>\n",
       "      <td>in thi paper we consid a typic mec network whe...</td>\n",
       "    </tr>\n",
       "    <tr>\n",
       "      <th>3</th>\n",
       "      <td>S3.T1</td>\n",
       "      <td>categori symbol type descript feder learn fram...</td>\n",
       "      <td>tabl i variabl in feder learn framework</td>\n",
       "      <td>in thi section the architectur and implement d...</td>\n",
       "    </tr>\n",
       "    <tr>\n",
       "      <th>4</th>\n",
       "      <td>S4.T2</td>\n",
       "      <td>model type train method recal mean recal highe...</td>\n",
       "      <td>tabl ii predict accuraci of differ train model</td>\n",
       "      <td>four motor data set refer to section iva belon...</td>\n",
       "    </tr>\n",
       "  </tbody>\n",
       "</table>\n",
       "</div>"
      ]
     },
     "execution_count": 5,
     "metadata": {},
     "output_type": "execute_result"
    }
   ],
   "execution_count": 5
  },
  {
   "metadata": {
    "ExecuteTime": {
     "end_time": "2024-11-26T22:06:55.678499Z",
     "start_time": "2024-11-26T22:06:55.674270Z"
    }
   },
   "cell_type": "code",
   "source": "df.to_csv('data.csv', index=True)",
   "id": "87d8a58f54f7ddbf",
   "outputs": [],
   "execution_count": 6
  },
  {
   "metadata": {
    "ExecuteTime": {
     "end_time": "2024-11-26T22:26:03.288597Z",
     "start_time": "2024-11-26T22:26:03.284424Z"
    }
   },
   "cell_type": "code",
   "source": "df[54:55]",
   "id": "1a21fb780b34d95e",
   "outputs": [
    {
     "data": {
      "text/plain": [
       "   id, table_id                                         table_body  \\\n",
       "54        A4.T4  dataset cifar10 domainnet xgluenc qa model cli...   \n",
       "\n",
       "                    caption references  \n",
       "54  tabl 4 implement detail             "
      ],
      "text/html": [
       "<div>\n",
       "<style scoped>\n",
       "    .dataframe tbody tr th:only-of-type {\n",
       "        vertical-align: middle;\n",
       "    }\n",
       "\n",
       "    .dataframe tbody tr th {\n",
       "        vertical-align: top;\n",
       "    }\n",
       "\n",
       "    .dataframe thead th {\n",
       "        text-align: right;\n",
       "    }\n",
       "</style>\n",
       "<table border=\"1\" class=\"dataframe\">\n",
       "  <thead>\n",
       "    <tr style=\"text-align: right;\">\n",
       "      <th></th>\n",
       "      <th>id, table_id</th>\n",
       "      <th>table_body</th>\n",
       "      <th>caption</th>\n",
       "      <th>references</th>\n",
       "    </tr>\n",
       "  </thead>\n",
       "  <tbody>\n",
       "    <tr>\n",
       "      <th>54</th>\n",
       "      <td>A4.T4</td>\n",
       "      <td>dataset cifar10 domainnet xgluenc qa model cli...</td>\n",
       "      <td>tabl 4 implement detail</td>\n",
       "      <td></td>\n",
       "    </tr>\n",
       "  </tbody>\n",
       "</table>\n",
       "</div>"
      ]
     },
     "execution_count": 7,
     "metadata": {},
     "output_type": "execute_result"
    }
   ],
   "execution_count": 7
  }
 ],
 "metadata": {
  "kernelspec": {
   "display_name": "Python 3",
   "language": "python",
   "name": "python3"
  },
  "language_info": {
   "codemirror_mode": {
    "name": "ipython",
    "version": 2
   },
   "file_extension": ".py",
   "mimetype": "text/x-python",
   "name": "python",
   "nbconvert_exporter": "python",
   "pygments_lexer": "ipython2",
   "version": "2.7.6"
  }
 },
 "nbformat": 4,
 "nbformat_minor": 5
}
