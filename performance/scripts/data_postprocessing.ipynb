{
 "cells": [
  {
   "cell_type": "code",
   "id": "aedd903dc98cc257",
   "metadata": {
    "ExecuteTime": {
     "end_time": "2024-11-30T16:02:00.915060Z",
     "start_time": "2024-11-30T16:02:00.689009Z"
    }
   },
   "source": [
    "\n",
    "\n",
    "output_dir = '../performance'\n",
    "\n",
    "\n",
    "import pandas as pd\n",
    "import os\n",
    "import json\n",
    "\n",
    "output_dir = '../performance'\n",
    "\n",
    "queries = {\n",
    "    1: '(Graph structured) AND (visual Question Answering)',\n",
    "    2: '\"Autonomous Surface Vehicles\" AND \"Federated Learning\"',\n",
    "    3: 'RAG AND (Long-context LLM) OR (long context language model)',\n",
    "    4: 'Applications of visual question answering systems',\n",
    "    5: 'Fairness AND socials',\n",
    "    6: '(Regulatory Capture AND IA OR ML) OR (Regulatory Capture OR Machine Learning)',\n",
    "    7: '(Segmentation OR SAM) AND failure',\n",
    "    8: '(Graph Convolutional Network) OR (GCN) AND ',\n",
    "    9: '((Question Answering) AND (visual)) OR (VQA)',\n",
    "    10: 'FL AND decentralised',\n",
    "}"
   ],
   "outputs": [],
   "execution_count": 2
  },
  {
   "metadata": {
    "collapsed": true,
    "ExecuteTime": {
     "end_time": "2024-11-28T22:21:23.892221Z",
     "start_time": "2024-11-28T22:21:23.838454Z"
    }
   },
   "cell_type": "code",
   "outputs": [],
   "execution_count": 15,
   "source": [
    "\n",
    "\n",
    "results = []\n",
    "for file in os.listdir(output_dir):\n",
    "    with open(f'{output_dir}/{file}', 'r') as f:\n",
    "        response = f.read()\n",
    "        \n",
    "        # remove all that is not json\n",
    "        response = response.split('{')[1].split('}')[0]\n",
    "        response = '{' + response + '}'\n",
    "                \n",
    "        try:\n",
    "            response = json.loads(response)\n",
    "        except json.JSONDecodeError as e:\n",
    "            print(e)\n",
    "            print(f'Error in file {file}')\n",
    "            continue\n",
    "\n",
    "        score = response.get('score', None)\n",
    "        relevant = response.get('relevant', None)\n",
    "        explanation = response.get('explanation', None)\n",
    "        keywords = response.get('keywords', None)\n",
    "        \n",
    "       \n",
    "        index, query = file.split('_')\n",
    "        query = query.split('.')[0]\n",
    "  \n",
    "\n",
    "        results.append({\n",
    "            'index': index,\n",
    "            'query_id': query,\n",
    "            'score': score,\n",
    "            'relevant': relevant,\n",
    "            'explanation': explanation,\n",
    "            'keywords': keywords\n",
    "        })\n",
    "\n",
    "df_results = pd.DataFrame(results)\n",
    "df_results.to_csv('llm_response.csv', index=False)\n"
   ],
   "id": "initial_id"
  },
  {
   "metadata": {
    "ExecuteTime": {
     "end_time": "2024-11-30T16:05:02.440510Z",
     "start_time": "2024-11-30T16:05:02.377143Z"
    }
   },
   "cell_type": "code",
   "source": [
    "data = pd.read_csv('../gym/data.csv')\n",
    "llm_res = pd.read_csv('../gym/llm_response.csv')\n",
    "altair_res = pd.read_csv('../gym/altair_response.csv')\n",
    "\n",
    "#join llm_res index with data on id\n",
    "\n",
    "llm_res = llm_res.merge(data, left_on='index', right_on='index')\n",
    "llm_res = llm_res[['query_id', 'index', 'score', 'relevant','file_id', 'table_id']]\n",
    "\n",
    "llm_res['id'] = llm_res['file_id'].astype(str) + '_' + llm_res['table_id'].astype(str)\n",
    "altair_res['id'] = altair_res['file_id'].astype(str) + '_' + altair_res['table_id'].astype(str)\n",
    "\n",
    "#export to csv\n",
    "llm_res.to_csv('llm_response.csv', index=False)\n",
    "altair_res.to_csv('altair_response.csv', index=False)"
   ],
   "id": "5b8b7686144a2a32",
   "outputs": [],
   "execution_count": 4
  },
  {
   "metadata": {},
   "cell_type": "code",
   "outputs": [],
   "execution_count": null,
   "source": "",
   "id": "d93e362415d932b9"
  }
 ],
 "metadata": {
  "kernelspec": {
   "display_name": "Python 3",
   "language": "python",
   "name": "python3"
  },
  "language_info": {
   "codemirror_mode": {
    "name": "ipython",
    "version": 2
   },
   "file_extension": ".py",
   "mimetype": "text/x-python",
   "name": "python",
   "nbconvert_exporter": "python",
   "pygments_lexer": "ipython2",
   "version": "2.7.6"
  }
 },
 "nbformat": 4,
 "nbformat_minor": 5
}
