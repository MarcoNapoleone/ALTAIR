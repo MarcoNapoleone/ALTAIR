{
 "cells": [
  {
   "cell_type": "code",
   "id": "initial_id",
   "metadata": {
    "collapsed": true,
    "ExecuteTime": {
     "end_time": "2024-11-28T22:21:23.892221Z",
     "start_time": "2024-11-28T22:21:23.838454Z"
    }
   },
   "source": [
    "\n",
    "\n",
    "output_dir = '../performance'\n",
    "\n",
    "\n",
    "import pandas as pd\n",
    "import os\n",
    "import json\n",
    "\n",
    "output_dir = '../performance'\n",
    "\n",
    "queries = {\n",
    "    1: '(Graph structured) AND (visual Question Answering)',\n",
    "    2: '\"Autonomous Surface Vehicles\" AND \"Federated Learning\"',\n",
    "    3: 'RAG AND (Long-context LLM) OR (long context language model)',\n",
    "    4: 'Applications of visual question answering systems',\n",
    "    5: 'Fairness AND socials',\n",
    "    6: '(Regulatory Capture AND IA OR ML) OR (Regulatory Capture OR Machine Learning)',\n",
    "    7: '(Segmentation OR SAM) AND failure',\n",
    "    8: '(Graph Convolutional Network) OR (GCN) AND ',\n",
    "    9: '((Question Answering) AND (visual)) OR (VQA)',\n",
    "    10: 'FL AND decentralised',\n",
    "}\n",
    "\n",
    "results = []\n",
    "for file in os.listdir(output_dir):\n",
    "    with open(f'{output_dir}/{file}', 'r') as f:\n",
    "        response = f.read()\n",
    "        \n",
    "        # remove all that is not json\n",
    "        response = response.split('{')[1].split('}')[0]\n",
    "        response = '{' + response + '}'\n",
    "                \n",
    "        try:\n",
    "            response = json.loads(response)\n",
    "        except json.JSONDecodeError as e:\n",
    "            print(e)\n",
    "            print(f'Error in file {file}')\n",
    "            continue\n",
    "\n",
    "        score = response.get('score', None)\n",
    "        relevant = response.get('relevant', None)\n",
    "        explanation = response.get('explanation', None)\n",
    "        keywords = response.get('keywords', None)\n",
    "        \n",
    "       \n",
    "        index, query = file.split('_')\n",
    "        query = query.split('.')[0]\n",
    "  \n",
    "\n",
    "        results.append({\n",
    "            'index': index,\n",
    "            'query': query,\n",
    "            'score': score,\n",
    "            'relevant': relevant,\n",
    "            'explanation': explanation,\n",
    "            'keywords': keywords\n",
    "        })\n",
    "\n",
    "df_results = pd.DataFrame(results)\n",
    "df_results.to_csv('llm_response.csv', index=False)\n"
   ],
   "outputs": [],
   "execution_count": 15
  },
  {
   "metadata": {
    "ExecuteTime": {
     "end_time": "2024-11-28T22:21:23.918160Z",
     "start_time": "2024-11-28T22:21:23.916137Z"
    }
   },
   "cell_type": "code",
   "source": "",
   "id": "5b8b7686144a2a32",
   "outputs": [],
   "execution_count": null
  }
 ],
 "metadata": {
  "kernelspec": {
   "display_name": "Python 3",
   "language": "python",
   "name": "python3"
  },
  "language_info": {
   "codemirror_mode": {
    "name": "ipython",
    "version": 2
   },
   "file_extension": ".py",
   "mimetype": "text/x-python",
   "name": "python",
   "nbconvert_exporter": "python",
   "pygments_lexer": "ipython2",
   "version": "2.7.6"
  }
 },
 "nbformat": 4,
 "nbformat_minor": 5
}
